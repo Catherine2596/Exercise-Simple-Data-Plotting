{
    "metadata": {
        "kernelspec": {
            "name": "python3",
            "display_name": "Python 3 (ipykernel)",
            "language": "python"
        }
    },
    "nbformat": 4,
    "nbformat_minor": 2,
    "cells": [
        {
            "cell_type": "code",
            "execution_count": 91,
            "metadata": {},
            "outputs": [],
            "source": [
                "# Import necessary libraries\n",
                "import pandas as pd\n",
                "import matplotlib.pyplot as plt\n",
                "%matplotlib inline\n",
                ""
            ]
        },
        {
            "attachments": {},
            "cell_type": "markdown",
            "metadata": {},
            "source": [
                "### Reading the Advertisement dataset"
            ]
        },
        {
            "cell_type": "code",
            "execution_count": 92,
            "metadata": {},
            "outputs": [],
            "source": [
                "# \"Advertising.csv\" containts the data set used in this exercise\n",
                "data_filename = 'Advertising.csv'\n",
                "\n",
                "# Read the file \"Advertising.csv\" file using the pandas library\n",
                "df = pd.read_csv('Advertising.csv')\n",
                ""
            ]
        },
        {
            "cell_type": "code",
            "execution_count": 93,
            "metadata": {},
            "outputs": [
                {
                    "data": {
                        "text/html": "\u003cdiv\u003e\n\u003cstyle scoped\u003e\n    .dataframe tbody tr th:only-of-type {\n        vertical-align: middle;\n    }\n\n    .dataframe tbody tr th {\n        vertical-align: top;\n    }\n\n    .dataframe thead th {\n        text-align: right;\n    }\n\u003c/style\u003e\n\u003ctable border=\"1\" class=\"dataframe\"\u003e\n  \u003cthead\u003e\n    \u003ctr style=\"text-align: right;\"\u003e\n      \u003cth\u003e\u003c/th\u003e\n      \u003cth\u003eTV\u003c/th\u003e\n      \u003cth\u003eRadio\u003c/th\u003e\n      \u003cth\u003eNewspaper\u003c/th\u003e\n      \u003cth\u003eSales\u003c/th\u003e\n    \u003c/tr\u003e\n  \u003c/thead\u003e\n  \u003ctbody\u003e\n    \u003ctr\u003e\n      \u003cth\u003ecount\u003c/th\u003e\n      \u003ctd\u003e200.000000\u003c/td\u003e\n      \u003ctd\u003e200.000000\u003c/td\u003e\n      \u003ctd\u003e200.000000\u003c/td\u003e\n      \u003ctd\u003e200.000000\u003c/td\u003e\n    \u003c/tr\u003e\n    \u003ctr\u003e\n      \u003cth\u003emean\u003c/th\u003e\n      \u003ctd\u003e147.042500\u003c/td\u003e\n      \u003ctd\u003e23.264000\u003c/td\u003e\n      \u003ctd\u003e30.554000\u003c/td\u003e\n      \u003ctd\u003e14.022500\u003c/td\u003e\n    \u003c/tr\u003e\n    \u003ctr\u003e\n      \u003cth\u003estd\u003c/th\u003e\n      \u003ctd\u003e85.854236\u003c/td\u003e\n      \u003ctd\u003e14.846809\u003c/td\u003e\n      \u003ctd\u003e21.778621\u003c/td\u003e\n      \u003ctd\u003e5.217457\u003c/td\u003e\n    \u003c/tr\u003e\n    \u003ctr\u003e\n      \u003cth\u003emin\u003c/th\u003e\n      \u003ctd\u003e0.700000\u003c/td\u003e\n      \u003ctd\u003e0.000000\u003c/td\u003e\n      \u003ctd\u003e0.300000\u003c/td\u003e\n      \u003ctd\u003e1.600000\u003c/td\u003e\n    \u003c/tr\u003e\n    \u003ctr\u003e\n      \u003cth\u003e25%\u003c/th\u003e\n      \u003ctd\u003e74.375000\u003c/td\u003e\n      \u003ctd\u003e9.975000\u003c/td\u003e\n      \u003ctd\u003e12.750000\u003c/td\u003e\n      \u003ctd\u003e10.375000\u003c/td\u003e\n    \u003c/tr\u003e\n    \u003ctr\u003e\n      \u003cth\u003e50%\u003c/th\u003e\n      \u003ctd\u003e149.750000\u003c/td\u003e\n      \u003ctd\u003e22.900000\u003c/td\u003e\n      \u003ctd\u003e25.750000\u003c/td\u003e\n      \u003ctd\u003e12.900000\u003c/td\u003e\n    \u003c/tr\u003e\n    \u003ctr\u003e\n      \u003cth\u003e75%\u003c/th\u003e\n      \u003ctd\u003e218.825000\u003c/td\u003e\n      \u003ctd\u003e36.525000\u003c/td\u003e\n      \u003ctd\u003e45.100000\u003c/td\u003e\n      \u003ctd\u003e17.400000\u003c/td\u003e\n    \u003c/tr\u003e\n    \u003ctr\u003e\n      \u003cth\u003emax\u003c/th\u003e\n      \u003ctd\u003e296.400000\u003c/td\u003e\n      \u003ctd\u003e49.600000\u003c/td\u003e\n      \u003ctd\u003e114.000000\u003c/td\u003e\n      \u003ctd\u003e27.000000\u003c/td\u003e\n    \u003c/tr\u003e\n  \u003c/tbody\u003e\n\u003c/table\u003e\n\u003c/div\u003e",
                        "text/plain": "               TV       Radio   Newspaper       Sales\ncount  200.000000  200.000000  200.000000  200.000000\nmean   147.042500   23.264000   30.554000   14.022500\nstd     85.854236   14.846809   21.778621    5.217457\nmin      0.700000    0.000000    0.300000    1.600000\n25%     74.375000    9.975000   12.750000   10.375000\n50%    149.750000   22.900000   25.750000   12.900000\n75%    218.825000   36.525000   45.100000   17.400000\nmax    296.400000   49.600000  114.000000   27.000000"
                    },
                    "execution_count": 93,
                    "metadata": {},
                    "output_type": "execute_result"
                }
            ],
            "source": [
                "# Get a quick look of the data\n",
                "df.describe()\n",
                ""
            ]
        },
        {
            "cell_type": "code",
            "execution_count": 94,
            "metadata": {},
            "outputs": [],
            "source": [
                "### edTest(test_pandas) ###\n",
                "# Create a new dataframe by selecting the first 7 rows of\n",
                "# the current dataframe\n",
                "df_new = df.head(7)\n",
                ""
            ]
        },
        {
            "cell_type": "code",
            "execution_count": 95,
            "metadata": {},
            "outputs": [
                {
                    "name": "stdout",
                    "output_type": "stream",
                    "text": "      TV  Radio  Newspaper  Sales\n0  230.1   37.8       69.2   22.1\n1   44.5   39.3       45.1   10.4\n2   17.2   45.9       69.3    9.3\n3  151.5   41.3       58.5   18.5\n4  180.8   10.8       58.4   12.9\n5    8.7   48.9       75.0    7.2\n6   57.5   32.8       23.5   11.8\n"
                }
            ],
            "source": [
                "# Print your new dataframe to see if you have selected 7 rows correctly\n",
                "print(df_new)\n",
                ""
            ]
        },
        {
            "attachments": {},
            "cell_type": "markdown",
            "metadata": {},
            "source": [
                "### Plotting the graph"
            ]
        },
        {
            "cell_type": "code",
            "execution_count": 99,
            "metadata": {},
            "outputs": [
                {
                    "data": {
                        "text/plain": "\u003cmatplotlib.collections.PathCollection at 0x7fe978c88690\u003e"
                    },
                    "execution_count": 99,
                    "metadata": {},
                    "output_type": "execute_result"
                },
                {
                    "data": {
                        "image/png": "[encoded data removed]",
                        "text/plain": "\u003cFigure size 640x480 with 1 Axes\u003e"
                    },
                    "metadata": {},
                    "output_type": "display_data"
                }
            ],
            "source": [
                "# Use a scatter plot for plotting a graph of TV vs Sales\n",
                "plt.scatter(df_new.TV,df_new.Sales)\n",
                "\n",
                "# Add axis labels for clarity (x : TV budget, y : Sales)\n",
                "plt.xlabel('TV budget')\n",
                "plt.ylabel('Sales')\n",
                "\n",
                "# Add plot title \n",
                "plt.scatter('TV budget','Sales')\n",
                ""
            ]
        },
        {
            "attachments": {},
            "cell_type": "markdown",
            "metadata": {},
            "source": [
                "## Post-Exercise Question\n",
                "\n",
                "Instead of just plotting seven points, experiment to plot all points."
            ]
        },
        {
            "cell_type": "code",
            "execution_count": 0,
            "metadata": {},
            "outputs": [],
            "source": [
                "# Your code here\n",
                "plt.scatter(df.TV, df.Sales)\n",
                "\n",
                "# Add axis labels for clarity (x : TV budget, y : Sales)\n",
                "plt.xlabel('TV budget')\n",
                "plt.ylabel('Sales')"
            ]
        }
    ]
}
